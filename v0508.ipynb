{
 "cells": [
  {
   "cell_type": "markdown",
   "source": [
    "# import mudules"
   ],
   "metadata": {
    "collapsed": false
   }
  },
  {
   "cell_type": "code",
   "execution_count": null,
   "outputs": [],
   "source": [
    "%matplotlib inline\n",
    "import numpy as np\n",
    "import pandas as pd\n",
    "import os\n",
    "import pymc3 as pm\n",
    "import seaborn as sns\n",
    "import theano.tensor as tt\n",
    "import matplotlib.pyplot as plt\n",
    "from sklearn.mixture import GaussianMixture\n",
    "from itertools import permutations"
   ],
   "metadata": {
    "collapsed": false,
    "pycharm": {
     "name": "#%%\n"
    }
   }
  },
  {
   "cell_type": "markdown",
   "source": [
    "# hyper parameters"
   ],
   "metadata": {
    "collapsed": false
   }
  },
  {
   "cell_type": "code",
   "execution_count": null,
   "outputs": [],
   "source": [
    "K = 3  # num of components\n",
    "D = 2  # dimensions\n",
    "SEED = 1234\n",
    "PERCENT = 0.1\n",
    "DATA_PATH = './UAH/'"
   ],
   "metadata": {
    "collapsed": false,
    "pycharm": {
     "name": "#%%\n"
    }
   }
  },
  {
   "cell_type": "markdown",
   "source": [
    "# utility functions"
   ],
   "metadata": {
    "collapsed": false
   }
  },
  {
   "cell_type": "code",
   "execution_count": null,
   "outputs": [],
   "source": [
    "def sampling(w, mu, sigma, N=2000):\n",
    "    num = int(w * N)\n",
    "    if len(mu) == 1:\n",
    "        samples = np.random.normal(mu, sigma, size=num)\n",
    "    else:\n",
    "        samples = np.random.multivariate_normal(mu, sigma, size=num)\n",
    "    return samples\n",
    "\n",
    "def make_cov_matrix(chol, module=np):\n",
    "    C = module.zeros((D,D))\n",
    "    idxl = np.mask_indices(D, np.tril)\n",
    "    if module == np:\n",
    "        C[idxl] = chol\n",
    "    else:\n",
    "        C = tt.set_subtensor(C[idxl], chol)\n",
    "    cov = C.dot(C.T)\n",
    "    return cov\n",
    "\n",
    "def kalman(obs, x, p=np.eye(2), dt=0.1):\n",
    "    eta = []\n",
    "    for i in range(len(obs)):\n",
    "        A = np.array([[1, dt], [0, 1]])\n",
    "        C = np.array([[1, 0]])\n",
    "        Q = 100 * np.eye(2)\n",
    "        R = 1\n",
    "        x = A.dot(x)\n",
    "        p = A.dot(p).dot(A.T) + Q\n",
    "        k = p.dot(C.T).dot(np.linalg.inv(C.dot(p).dot(C.T) + R))\n",
    "        x = x + k.dot(obs[i] - C.dot(x))\n",
    "        p = (np.eye(2) - k.dot(C)).dot(p)\n",
    "        eta.append(x[1])\n",
    "    return np.array(eta)\n",
    "\n",
    "def outlier(s, x, level=1):\n",
    "    mean_x = np.mean(s)\n",
    "    std_x = np.std(s)\n",
    "    index = np.where(np.abs(s - mean_x) >= level * std_x)\n",
    "    x = [np.delete(x[k], index) for k in range(len(x))]\n",
    "    return x\n",
    "\n",
    "def grad(t, x, m):\n",
    "    headway = []\n",
    "    speed = []\n",
    "    maneuver = []\n",
    "    i_0 = []\n",
    "    i_f = []\n",
    "    for i in range(len(x) - 1):\n",
    "        if x[i] == -1 and x[i + 1] != -1:\n",
    "            i_0.append(i)\n",
    "        if x[i] != -1 and x[i + 1] == -1:\n",
    "            i_f.append(i)\n",
    "    num = np.min([len(i_0), len(i_f)])\n",
    "    for i in range(num):\n",
    "        if len(x[i_0[i] + 1: i_f[i] + 1]) < 2:\n",
    "            continue\n",
    "        s = x[i_0[i] + 1: i_f[i] + 1]\n",
    "        ds1 = np.gradient(x[i_0[i] + 1: i_f[i] + 1], t[i_0[i] + 1: i_f[i] + 1])\n",
    "        ds2 = kalman(s, np.array([s[0], ds1[0]]))\n",
    "        headway.append(s)\n",
    "        speed.append(ds2)\n",
    "        maneuver.append(m[i_0[i] + 1: i_f[i] + 1])\n",
    "    headway = np.concatenate(headway)\n",
    "    speed = np.concatenate(speed)\n",
    "    maneuver = np.concatenate(maneuver)\n",
    "    headway, speed, maneuver = outlier(headway, (headway, speed, maneuver), 1)\n",
    "    headway, speed, maneuver = outlier(speed, (headway, speed, maneuver), 1)\n",
    "    return headway, speed, maneuver\n",
    "\n",
    "def norm1d_plot(x):\n",
    "    mu = x.mean()\n",
    "    sigma = x.std()\n",
    "    v = np.linspace(x.min(), x.max(), 50)\n",
    "    s = 1 / (np.sqrt(2 * 3.14) * sigma) * np.exp(-(v - mu) ** 2 / (2 * sigma ** 2))\n",
    "    plt.plot(v, s)\n",
    "    return s.max()\n",
    "\n",
    "def ordered(results, gmm):\n",
    "    order = list(permutations(range(K)))\n",
    "    mse = np.zeros(len(order))\n",
    "    num = 0\n",
    "    for l in order:\n",
    "        w = [gmm.weights_[k] for k in l]\n",
    "        mu = [gmm.means_[k] for k in l]\n",
    "        L = [np.linalg.cholesky(gmm.covariances_[k]) for k in l]\n",
    "        ixl = np.tril_indices(D)\n",
    "        chol = [L[k][ixl] for k in range(K)]\n",
    "        gmm_vars = [[w], mu, chol]\n",
    "        value = 0.\n",
    "        for n in range(3):\n",
    "            for (var1, var2) in zip(results[n], gmm_vars[n]):\n",
    "                col = var1.shape[1]\n",
    "                value += np.sum([(var1[:, k].mean() - var2[k]) ** 2 for k in range(col)])\n",
    "        mse[num] = value\n",
    "        num += 1\n",
    "    index = mse.argmin()\n",
    "    w = [gmm.weights_[k] for k in order[index]]\n",
    "    mu = [gmm.means_[k] for k in order[index]]\n",
    "    L = [np.linalg.cholesky(gmm.covariances_[k]) for k in order[index]]\n",
    "    chol = [np.array([L[k][0, 0], L[k][1, 0], L[k][1, 1]]) for k in range(K)]\n",
    "    gmm_vars = [[w], mu, chol]\n",
    "    return gmm_vars\n",
    "\n",
    "def prior_model(x, w, mu, cov):\n",
    "    prob = []\n",
    "    for v in x:\n",
    "        p = 0.\n",
    "        for i in range(K):\n",
    "            c = np.sqrt(1 / ((2 * 3.14) ** D * np.linalg.det(cov[k])))\n",
    "            f = c * np.exp(-0.5 * (v - mu[k]).dot(np.linalg.inv(cov[k])).dot((v - mu[k]).T))\n",
    "            p += w[k] * f\n",
    "        prob.append(p)\n",
    "    return np.array(prob)"
   ],
   "metadata": {
    "collapsed": false,
    "pycharm": {
     "name": "#%%\n"
    }
   }
  },
  {
   "cell_type": "markdown",
   "source": [
    "# load data"
   ],
   "metadata": {
    "collapsed": false
   }
  },
  {
   "cell_type": "code",
   "execution_count": null,
   "outputs": [],
   "source": [
    "header_1 = ['time', 'headway', 'ttc', 'num', 'speed']\n",
    "header_2 = ['time', 'maneuver', 'lat', 'lon', 'duration', 'th']\n",
    "time = []\n",
    "hs = []\n",
    "manu = []\n",
    "for root, dirs, file in os.walk(DATA_PATH+'D2/'):\n",
    "    for path in dirs:\n",
    "        detection = pd.read_csv(os.path.join(root, path, 'PROC_VEHICLE_DETECTION.txt'), sep='\\ ', names=header_1)\n",
    "        event = pd.read_csv(os.path.join(root, path, 'EVENTS_LIST_LANE_CHANGES.txt'), sep='\\ ', names=header_2)\n",
    "        time_1 = np.around(detection['time'].values, 1)\n",
    "        time_2 = np.around(event['time'].values, 1)\n",
    "        headway = detection['headway'].values\n",
    "        t = np.arange(time_1[0], time_1[-1], 0.1)\n",
    "        s = np.interp(t, time_1, headway)\n",
    "        index = []\n",
    "        for d in time_2:\n",
    "            index.append(np.where(np.abs(t - d) <= 1e-3)[0][0])\n",
    "        m = np.zeros_like(t)\n",
    "        m[index] = np.sign(event['maneuver'].values)\n",
    "        time.append(t)\n",
    "        hs.append(s)\n",
    "        manu.append(m)\n",
    "time = np.concatenate(time)\n",
    "hs = np.concatenate(hs)\n",
    "manu = np.concatenate(manu)\n",
    "x0, dx0, m0 = grad(time, hs, manu)"
   ],
   "metadata": {
    "collapsed": false,
    "pycharm": {
     "name": "#%%\n"
    }
   }
  },
  {
   "cell_type": "code",
   "execution_count": null,
   "outputs": [],
   "source": [
    "num = int(len(x0) * PERCENT)\n",
    "samples = np.random.choice(len(x0), num, replace=False)\n",
    "x = x0[samples]\n",
    "dx = dx0[samples]\n",
    "m = m0[samples]\n",
    "data = pd.DataFrame([x, dx]).transpose()\n",
    "data.columns = ['x', 'dx']\n",
    "data = data.dropna(axis=0)"
   ],
   "metadata": {
    "collapsed": false,
    "pycharm": {
     "name": "#%%\n"
    }
   }
  },
  {
   "cell_type": "code",
   "execution_count": null,
   "outputs": [],
   "source": [
    "plt.figure()\n",
    "data['x'].plot()\n",
    "plt.figure()\n",
    "data['dx'].plot()\n",
    "plt.figure()\n",
    "sns.heatmap(data.corr(), annot=True)"
   ],
   "metadata": {
    "collapsed": false,
    "pycharm": {
     "name": "#%%\n"
    }
   }
  },
  {
   "cell_type": "markdown",
   "source": [
    "# modeling"
   ],
   "metadata": {
    "collapsed": false
   }
  },
  {
   "cell_type": "code",
   "execution_count": null,
   "outputs": [],
   "source": [
    "with pm.Model() as model:\n",
    "    if K == 1:\n",
    "        if D == 1:\n",
    "            mu = pm.Normal('mu0', mu=20, sd=5, shape=D)\n",
    "            sigma = pm.Gamma('sigma0', alpha=25, beta=5, shape=D)\n",
    "            obs = pm.Normal('obs', mu=mu, sd=sigma, observed=data['x'])\n",
    "        else:\n",
    "            mu = pm.Normal('mu0', mu=[20, 0], sd=[5, 5], shape=D)\n",
    "            tril = pm.LKJCholeskyCov('chol0', n=D, eta=1, sd_dist=pm.HalfCauchy.dist(2.5))\n",
    "            chol = pm.expand_packed_triangular(D, tril)\n",
    "            obs = pm.MvNormal('obs', mu=mu, chol=chol, observed=data)\n",
    "    else:\n",
    "        if D == 1:\n",
    "            w = pm.Dirichlet('w', a=np.ones(K))\n",
    "            mu = tt.stack([pm.Normal('mu'+str(k), mu=10, sd=10, shape=D) for k in range(K)])\n",
    "            sigma = tt.stack([pm.Gamma('sigma'+str(k), alpha=25, beta=5, shape=D) for k in range(K)])\n",
    "            dist = [pm.Normal.dist(mu=mu[k], sd=sigma[k]) for k in range(K)]\n",
    "            obs = pm.Mixture('obs', w=w, comp_dists=dist, observed=data['x'])\n",
    "        else:\n",
    "            w = pm.Dirichlet('w', a=np.ones(K))\n",
    "            mu = tt.stack([pm.Normal('mu'+str(k), mu=10, sd=10, shape=D) for k in range(K)])\n",
    "            tril = tt.stack([pm.LKJCholeskyCov('chol'+str(k), n=D, eta=1., sd_dist=pm.HalfCauchy.dist(2.5)) for k in range(K)])\n",
    "            chol = tt.stack([pm.expand_packed_triangular(D, tril[k]) for k in range(K)])\n",
    "            dist = [pm.MvNormal.dist(mu=mu[k], chol=chol[k]) for k in range(K)]\n",
    "            obs = pm.Mixture('obs', w=w, comp_dists=dist, observed=data)"
   ],
   "metadata": {
    "collapsed": false,
    "pycharm": {
     "name": "#%%\n"
    }
   }
  },
  {
   "cell_type": "markdown",
   "source": [
    "## traning"
   ],
   "metadata": {
    "collapsed": false
   }
  },
  {
   "cell_type": "code",
   "execution_count": null,
   "outputs": [],
   "source": [
    "# with model:\n",
    "#     inference = pm.fit(method='advi')\n",
    "#     trace = inference.sample()"
   ],
   "metadata": {
    "collapsed": false,
    "pycharm": {
     "name": "#%%\n"
    }
   }
  },
  {
   "cell_type": "code",
   "execution_count": null,
   "outputs": [],
   "source": [
    "with model:\n",
    "    trace = pm.sample(chains=1)"
   ],
   "metadata": {
    "collapsed": false,
    "pycharm": {
     "name": "#%%\n"
    }
   }
  },
  {
   "cell_type": "markdown",
   "source": [
    "## results"
   ],
   "metadata": {
    "collapsed": false
   }
  },
  {
   "cell_type": "code",
   "execution_count": null,
   "outputs": [],
   "source": [
    "with model:\n",
    "    pm.traceplot(trace)"
   ],
   "metadata": {
    "collapsed": false,
    "pycharm": {
     "name": "#%%\n"
    }
   }
  },
  {
   "cell_type": "code",
   "execution_count": null,
   "outputs": [],
   "source": [
    "with model:\n",
    "    pm.plot_posterior(trace)"
   ],
   "metadata": {
    "collapsed": false,
    "pycharm": {
     "name": "#%%\n"
    }
   }
  },
  {
   "cell_type": "code",
   "execution_count": null,
   "outputs": [],
   "source": [
    "with model:\n",
    "    pm.forestplot(trace)"
   ],
   "metadata": {
    "collapsed": false,
    "pycharm": {
     "name": "#%%\n"
    }
   }
  },
  {
   "cell_type": "code",
   "execution_count": null,
   "outputs": [],
   "source": [
    "with model:\n",
    "    pm.autocorrplot(trace)"
   ],
   "metadata": {
    "collapsed": false,
    "pycharm": {
     "name": "#%%\n"
    }
   }
  },
  {
   "cell_type": "code",
   "execution_count": null,
   "outputs": [],
   "source": [
    "with model:\n",
    "    pm.energyplot(trace)"
   ],
   "metadata": {
    "collapsed": false,
    "pycharm": {
     "name": "#%%\n"
    }
   }
  },
  {
   "cell_type": "code",
   "execution_count": null,
   "outputs": [],
   "source": [
    "with model:\n",
    "    pm.densityplot(trace)"
   ],
   "metadata": {
    "collapsed": false,
    "pycharm": {
     "name": "#%%\n"
    }
   }
  },
  {
   "cell_type": "code",
   "execution_count": null,
   "outputs": [],
   "source": [
    "pm.summary(trace)"
   ],
   "metadata": {
    "collapsed": false,
    "pycharm": {
     "name": "#%%\n"
    }
   }
  },
  {
   "cell_type": "markdown",
   "source": [
    "## joint distribution"
   ],
   "metadata": {
    "collapsed": false
   }
  },
  {
   "cell_type": "code",
   "execution_count": null,
   "outputs": [],
   "source": [
    "data_post = []\n",
    "if D == 1:\n",
    "    w_post = trace['w'].mean(0)\n",
    "    mu_post = [trace['mu'+str(k)].mean(0) for k in range(K)]\n",
    "    sigma_post = [trace['sigma'+str(k)].mean(0) for k in range(K)]\n",
    "    for k in range(K):\n",
    "        nxy = sampling(w=w_post[k], mu=mu_post[k], sigma=sigma_post[k])\n",
    "        data_post.append(nxy)\n",
    "    data_post = np.concatenate(data_post)\n",
    "    sns.distplot(data['x'], bins=30, kde=False, norm_hist=True, hist_kws={'histtype': 'step', 'linewidth': 3}, label='Prior distribution')\n",
    "    sns.distplot(data_post, bins=30, kde=False, norm_hist=True, hist_kws={'histtype': 'step', 'linewidth': 3}, label='Posterior distribution')\n",
    "    plt.legend()\n",
    "else:\n",
    "    w_post = trace['w'].mean(0)\n",
    "    mu_post = [trace['mu'+str(k)].mean(0) for k in range(K)]\n",
    "    chol_post = [trace['chol'+str(k)].mean(0) for k in range(K)]\n",
    "    cov_post = [make_cov_matrix(chol=chol_post[k]) for k in range(K)]\n",
    "    plt.figure()\n",
    "    plt.xlim([4, 45])\n",
    "    plt.ylim([-20, 20])\n",
    "    for k in range(K):\n",
    "        nxy = sampling(w=w_post[k], mu=mu_post[k], sigma=cov_post[k], N=num)\n",
    "        sns.scatterplot(nxy[:, 0], nxy[:, 1], label='component'+str(k))\n",
    "        data_post.append(nxy)\n",
    "    data_post = np.concatenate(data_post)\n",
    "    data_post = pd.DataFrame(data_post)\n",
    "    data_post.columns = ['x', 'dx']\n",
    "    plt.figure()\n",
    "    sns.jointplot('x', 'dx', data=data, xlim=[5, 45], ylim=[-20, 20], kind='kde', space=0, color='r')\n",
    "    sns.jointplot('x', 'dx', data=data_post, xlim=[5, 45], ylim=[-20, 20], kind='kde', space=0, color='g')"
   ],
   "metadata": {
    "collapsed": false,
    "pycharm": {
     "name": "#%%\n"
    }
   }
  },
  {
   "cell_type": "markdown",
   "source": [
    "## marginalized distribution"
   ],
   "metadata": {
    "collapsed": false
   }
  },
  {
   "cell_type": "code",
   "execution_count": null,
   "outputs": [],
   "source": [
    "plt.figure()\n",
    "sns.distplot(data['x'], bins=30, kde=False, norm_hist=True, hist_kws={'histtype': 'step', 'linewidth': 3}, label='Prior distribution')\n",
    "sns.distplot(data_post['x'], bins=30, kde=False, norm_hist=True, hist_kws={'histtype': 'step', 'linewidth': 3}, label='Posterior distribution')\n",
    "plt.legend()\n",
    "plt.figure()\n",
    "sns.distplot(data['dx'], bins=30, kde=False, norm_hist=True, hist_kws={'histtype': 'step', 'linewidth': 3}, label='Prior distribution')\n",
    "sns.distplot(data_post['dx'], bins=30, kde=False, norm_hist=True, hist_kws={'histtype': 'step', 'linewidth': 3}, label='Posterior distribution')\n",
    "plt.legend()"
   ],
   "metadata": {
    "collapsed": false,
    "pycharm": {
     "name": "#%%\n"
    }
   }
  },
  {
   "cell_type": "code",
   "execution_count": null,
   "outputs": [],
   "source": [
    "gmm = GaussianMixture(K)\n",
    "gmm.fit(data)\n",
    "p1 = prior_model(data.values, gmm.weights_, gmm.means_, gmm.covariances_)\n",
    "p2 = prior_model(data.values, w_post, mu_post, cov_post)\n",
    "p1 = p1 / np.sum(p1)\n",
    "p2 = p2 / np.sum(p2)\n",
    "plt.figure(figsize=[16, 8])\n",
    "plt.subplot(121)\n",
    "plt.scatter(data['x'], data['dx'], c=p1)\n",
    "plt.colorbar()\n",
    "plt.subplot(122)\n",
    "plt.scatter(data['x'], data['dx'], c=p2)\n",
    "plt.colorbar()"
   ],
   "metadata": {
    "collapsed": false,
    "pycharm": {
     "name": "#%%\n"
    }
   }
  },
  {
   "cell_type": "code",
   "execution_count": null,
   "outputs": [],
   "source": [
    "w_results = [trace.get_values('w')]\n",
    "mu_results = [trace.get_values('mu'+str(k)) for k in range(K)]\n",
    "chol_results = [trace.get_values('chol'+str(k)) for k in range(K)]\n",
    "results = [w_results, mu_results, chol_results]\n",
    "gmm_vars = ordered(results, gmm)\n",
    "title = ['w', 'mu', 'chol']\n",
    "for n in range(3):\n",
    "    plt.figure(figsize=[16, 8])\n",
    "    i = 0\n",
    "    for (var1, var2) in zip(results[n], gmm_vars[n]):\n",
    "        col = var1.shape[1]\n",
    "        plt.subplot2grid([len(results), 2], [i, 0])\n",
    "        plt.ylabel('Frequency')\n",
    "        plt.title(title[n]+str(i))\n",
    "        ylim = [norm1d_plot(var) for var in var1.T]\n",
    "        [plt.plot([var, var], [0, np.max(ylim)], color='r') for var in var2]\n",
    "        plt.subplot2grid([len(results), 2], [i, 1])\n",
    "        plt.plot(var1)\n",
    "        plt.ylabel('Sample value')\n",
    "        plt.title(title[n]+str(i))\n",
    "        plt.subplots_adjust(wspace=0.2, hspace=0.5)\n",
    "        i += 1"
   ],
   "metadata": {
    "collapsed": false,
    "pycharm": {
     "name": "#%%\n"
    }
   }
  },
  {
   "cell_type": "code",
   "execution_count": null,
   "outputs": [],
   "source": [
    "N = 10000\n",
    "index = np.random.choice(data.shape[0], N, True, p2)\n",
    "samples = data.iloc[index]\n",
    "s = m[index]\n",
    "plt.scatter(samples['x'], samples['dx'])\n",
    "plt.scatter(samples['x'].iloc[s != 0], samples['dx'].iloc[s != 0])\n",
    "print(samples['x'].iloc[s != 0].shape[0] / N)"
   ],
   "metadata": {
    "collapsed": false,
    "pycharm": {
     "name": "#%%\n"
    }
   }
  },
  {
   "cell_type": "code",
   "execution_count": null,
   "outputs": [],
   "source": [],
   "metadata": {
    "collapsed": false,
    "pycharm": {
     "name": "#%%"
    }
   }
  }
 ],
 "metadata": {
  "kernelspec": {
   "display_name": "Python 3",
   "language": "python",
   "name": "python3"
  },
  "language_info": {
   "codemirror_mode": {
    "name": "ipython",
    "version": 3
   },
   "file_extension": ".py",
   "mimetype": "text/x-python",
   "name": "python",
   "nbconvert_exporter": "python",
   "pygments_lexer": "ipython3",
   "version": "3.6.8"
  },
  "pycharm": {
   "stem_cell": {
    "cell_type": "raw",
    "source": [],
    "metadata": {
     "collapsed": false
    }
   }
  }
 },
 "nbformat": 4,
 "nbformat_minor": 1
}