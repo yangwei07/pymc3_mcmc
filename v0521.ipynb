{
 "cells": [
  {
   "cell_type": "code",
   "execution_count": 130,
   "metadata": {
    "pycharm": {
     "is_executing": false,
     "name": "#%%\n"
    }
   },
   "outputs": [],
   "source": [
    "import os\n",
    "import warnings\n",
    "import pymc3 as pm\n",
    "import numpy as np\n",
    "import pandas as pd\n",
    "import seaborn as sns\n",
    "import theano.tensor as tt\n",
    "import matplotlib.pyplot as plt\n",
    "from itertools import permutations\n",
    "from sklearn.mixture import GaussianMixture"
   ]
  },
  {
   "cell_type": "code",
   "execution_count": 131,
   "metadata": {
    "pycharm": {
     "name": "#%%\n"
    }
   },
   "outputs": [],
   "source": [
    "K = 3\n",
    "NUM_VARS = 3 * K + 1\n",
    "warnings.filterwarnings('ignore')"
   ]
  },
  {
   "cell_type": "code",
   "execution_count": 132,
   "metadata": {
    "pycharm": {
     "name": "#%%\n"
    }
   },
   "outputs": [],
   "source": [
    "class Functions:\n",
    "    def __init__(self):\n",
    "        pass\n",
    "\n",
    "    def make_cov_matrix(self, sigma=None, corr=None, chol=None, module=np):\n",
    "        if chol is None:\n",
    "            C = module.ones((2, 2))\n",
    "            var = module.diag(sigma)\n",
    "            idxu = np.triu_indices(2, 1)\n",
    "            idxl = np.tril_indices(2, -1)\n",
    "            if module == np:\n",
    "                C[idxu] = corr\n",
    "                C[idxl] = corr\n",
    "            else:\n",
    "                C = tt.set_subtensor(C[idxu], corr)\n",
    "                C = tt.set_subtensor(C[idxl], corr)\n",
    "            cov = var.dot(C).dot(var)\n",
    "        else:\n",
    "            C = module.zeros((2, 2))\n",
    "            idxl = np.mask_indices(2, np.tril)\n",
    "            if module == np:\n",
    "                C[idxl] = chol\n",
    "            else:\n",
    "                C = tt.set_subtensor(C[idxl], chol)\n",
    "            cov = C.dot(C.T)\n",
    "        return cov\n",
    "\n",
    "    def sampling(self, w, mu, cov, N=1000):\n",
    "        num = int(w * N)\n",
    "        if len(mu) == 1:\n",
    "            samples = np.random.normal(mu, cov, size=num)\n",
    "        else:\n",
    "            samples = np.random.multivariate_normal(mu, cov, size=num)\n",
    "        return samples\n",
    "\n",
    "    def flatten(self, input_list):\n",
    "        output_list = []\n",
    "        while True:\n",
    "            if input_list == []:\n",
    "                break\n",
    "            for index, i in enumerate(input_list):\n",
    "                if type(i) == list:\n",
    "                    input_list = i + input_list[index + 1:]\n",
    "                    break\n",
    "                else:\n",
    "                    output_list.append(i)\n",
    "                    input_list.pop(index)\n",
    "                    break\n",
    "        return output_list\n",
    "\n",
    "    def norm_1d(self, x, mu, sigma):\n",
    "        prob = np.zeros(x.shape[0])\n",
    "        for i, v in enumerate(x):\n",
    "            prob[i] = 1 / (np.sqrt(2 * 3.14 * sigma ** 2)) * np.exp(-0.5 * (v - mu) ** 2 / sigma ** 2)\n",
    "        return prob\n",
    "\n",
    "    def norm_2d(self, x, w, mu, cov):\n",
    "        prob = np.zeros(x.shape[0])\n",
    "        for i, v in enumerate(x):\n",
    "            c = [np.sqrt(1 / ((2 * 3.14) ** 2 * np.linalg.det(cov[k]))) for k in range(K)]\n",
    "            f = [c[k] * np.exp(-0.5 * (v - mu[k]).dot(np.linalg.inv(cov[k])).dot((v - mu[k]).T)) for k in range(K)]\n",
    "            prob[i] = np.sum([w[k] * f[k] for k in range(K)])\n",
    "        return prob\n",
    "\n",
    "    def cluster(self, x, w, mu, cov):\n",
    "        prob = np.zeros([x.shape[0], K])\n",
    "        cluster = np.zeros(x.shape[0])\n",
    "        for i, v in enumerate(x):\n",
    "            c = [np.sqrt(1 / ((2 * 3.14) ** 2 * np.linalg.det(cov[k]))) for k in range(K)]\n",
    "            f = [c[k] * np.exp(-0.5 * (v - mu[k]).dot(np.linalg.inv(cov[k])).dot((v - mu[k]).T)) for k in range(K)]\n",
    "            for k in range(K):\n",
    "                prob[i, k] = w[k] * f[k]\n",
    "            cluster[i] = prob[i].argmax()\n",
    "        return cluster\n",
    "\n",
    "    def sigmoid(self, x):\n",
    "        return 1 / (1 + np.exp(-x))\n",
    "\n",
    "    def stocGraAscent(self, data, label):\n",
    "        m, n = np.shape(data)\n",
    "        w = np.ones([n, 1])\n",
    "        alpha = 0.01\n",
    "        gamma = 2\n",
    "        episode = 1000\n",
    "        mini_batch = 1000\n",
    "        w_trace = [w]\n",
    "        loss = []\n",
    "        for i in range(episode):\n",
    "            dataIndex = np.random.choice(m, mini_batch, False)\n",
    "            lr = 0.001\n",
    "            pred = self.sigmoid(data[dataIndex].dot(w)).T\n",
    "            real = label[dataIndex]\n",
    "            # error = self.sigmoid(data[dataIndex].dot(w)).T - label[dataIndex]\n",
    "            error = -real * alpha * (1 - pred) ** gamma * np.log(pred+1e-5) - \\\n",
    "                    (1 - real) * (1 - alpha) * pred ** gamma * np.log(1 - pred+1e-5)\n",
    "            crossentropyloss = np.sum([-y * np.log(x) - (1 - y) * np.log(1 - x) for x, y in zip(pred, real)])\n",
    "            # if mse <= 1e-3:\n",
    "            #     break\n",
    "            # else:\n",
    "            w = w - lr * data[dataIndex].T.dot(error.T)\n",
    "            w_trace.append(w)\n",
    "            loss.append(crossentropyloss)\n",
    "        w_trace = np.hstack(w_trace)\n",
    "        return w_trace\n",
    "    \n",
    "    def normalization(self, x):\n",
    "        return (x - x.min(0)) / (x.max(0) - x.min(0))"
   ]
  },
  {
   "cell_type": "code",
   "execution_count": 133,
   "metadata": {
    "pycharm": {
     "name": "#%%\n"
    }
   },
   "outputs": [],
   "source": [
    "class LoadData:\n",
    "    def __init__(self):\n",
    "        self.data = self.read_file()\n",
    "\n",
    "    def read_file(self):\n",
    "        header_1 = ['time', 'headway', 'ttc', 'num', 'speed']\n",
    "        header_2 = ['time', 'maneuver', 'lat', 'lon', 'duration', 'th']\n",
    "        time = []\n",
    "        hs = []\n",
    "        manu = []\n",
    "        for drivers in ['D1/', 'D2/', 'D3/', 'D4/', 'D5/', 'D6/']:\n",
    "            for root, dirs, file in os.walk('./UAH/'+drivers):\n",
    "                for path in dirs:\n",
    "                    detection = pd.read_csv(os.path.join(root, path, 'PROC_VEHICLE_DETECTION.txt'), sep='\\s+', names=header_1)\n",
    "                    event = pd.read_csv(os.path.join(root, path, 'EVENTS_LIST_LANE_CHANGES.txt'), sep='\\s+', names=header_2)\n",
    "                    time_1 = np.around(detection['time'].values, 1)\n",
    "                    time_2 = np.around(event['time'].values, 1)\n",
    "                    headway = detection['headway'].values\n",
    "                    t = np.arange(time_1[0], time_1[-1], 0.1)\n",
    "                    s = np.interp(t, time_1, headway)\n",
    "                    index = []\n",
    "                    for d in time_2:\n",
    "                        index.append(np.where(np.abs(t - d) <= 1e-3)[0][0])\n",
    "                    m = np.zeros_like(t)\n",
    "                    m[index] = np.sign(event['maneuver'].values)\n",
    "                    time.append(t)\n",
    "                    hs.append(s)\n",
    "                    manu.append(m)\n",
    "        time = np.concatenate(time)\n",
    "        hs = np.concatenate(hs)\n",
    "        manu = np.concatenate(manu)\n",
    "        x0, dx0, m0 = self.grad(time, hs, manu)\n",
    "        return x0, dx0, m0\n",
    "\n",
    "    def grad(self, t, x, m):\n",
    "        def outlier(s, x, level=1):\n",
    "            mean_x = np.mean(s)\n",
    "            std_x = np.std(s)\n",
    "            index = np.where(np.abs(s - mean_x) >= level * std_x)\n",
    "            x = [np.delete(x[k], index) for k in range(len(x))]\n",
    "            return x\n",
    "\n",
    "        def kalman(obs, x, p=np.eye(2), dt=0.1):\n",
    "            eta = []\n",
    "            for i in range(len(obs)):\n",
    "                A = np.array([[1, dt], [0, 1]])\n",
    "                C = np.array([[1, 0]])\n",
    "                Q = 100 * np.eye(2)\n",
    "                R = 1\n",
    "                x = A.dot(x)\n",
    "                p = A.dot(p).dot(A.T) + Q\n",
    "                k = p.dot(C.T).dot(np.linalg.inv(C.dot(p).dot(C.T) + R))\n",
    "                x = x + k.dot(obs[i] - C.dot(x))\n",
    "                p = (np.eye(2) - k.dot(C)).dot(p)\n",
    "                eta.append(x[1])\n",
    "            return np.array(eta)\n",
    "\n",
    "        headway = []\n",
    "        speed = []\n",
    "        maneuver = []\n",
    "        i_0 = []\n",
    "        i_f = []\n",
    "        for i in range(len(x) - 1):\n",
    "            if x[i] == -1 and x[i + 1] != -1:\n",
    "                i_0.append(i)\n",
    "            if x[i] != -1 and x[i + 1] == -1:\n",
    "                i_f.append(i)\n",
    "        num = np.min([len(i_0), len(i_f)])\n",
    "        for i in range(num):\n",
    "            if len(x[i_0[i] + 1: i_f[i] + 1]) < 2:\n",
    "                continue\n",
    "            s = x[i_0[i] + 1: i_f[i] + 1]\n",
    "            ds1 = np.gradient(x[i_0[i] + 1: i_f[i] + 1], t[i_0[i] + 1: i_f[i] + 1])\n",
    "            ds2 = kalman(s, np.array([s[0], ds1[0]]))\n",
    "            headway.append(s)\n",
    "            speed.append(ds2)\n",
    "            maneuver.append(m[i_0[i] + 1: i_f[i] + 1])\n",
    "        headway = np.concatenate(headway)\n",
    "        speed = np.concatenate(speed)\n",
    "        maneuver = np.concatenate(maneuver)\n",
    "        headway, speed, maneuver = outlier(headway, (headway, speed, maneuver), 1)\n",
    "        headway, speed, maneuver = outlier(speed, (headway, speed, maneuver), 1)\n",
    "        return headway, speed, maneuver\n",
    "\n",
    "    def prior_samples(self, percent=0.1):\n",
    "        data_size = len(self.data[0])\n",
    "        num = int(data_size * percent)\n",
    "        index = np.random.choice(data_size, num, False)\n",
    "        # index = range(num)\n",
    "        x = self.data[0][index]\n",
    "        dx = self.data[1][index]\n",
    "        m = self.data[2][index]\n",
    "        data_prior = pd.DataFrame([x, dx]).transpose()\n",
    "        data_prior = data_prior.dropna(axis=0)\n",
    "        data_prior.columns = ['x', 'dx']\n",
    "        return data_prior, m"
   ]
  },
  {
   "cell_type": "code",
   "execution_count": 134,
   "metadata": {
    "pycharm": {
     "name": "#%%\n"
    }
   },
   "outputs": [],
   "source": [
    "class BayesianGMM(Functions):\n",
    "    def __init__(self, data):\n",
    "        super(BayesianGMM, self).__init__()\n",
    "        self.model = pm.Model()\n",
    "        self.modeling(data)\n",
    "\n",
    "    def modeling(self, data):\n",
    "        with self.model:\n",
    "            w = pm.Dirichlet('w', a=np.ones(K))\n",
    "            mu = [pm.Normal('mu'+str(k), mu=[20, 0], sd=10, shape=2) for k in range(K)]\n",
    "            sigma = [pm.HalfNormal('sigma'+str(k), sd=5, shape=2) for k in range(K)]\n",
    "            corr = [pm.Uniform('corr'+str(k), lower=-1, upper=1, shape=1) for k in range(K)]\n",
    "            cov = [self.make_cov_matrix(sigma=sigma[k], corr=corr[k], module=tt) for k in range(K)]\n",
    "            dist = [pm.MvNormal.dist(mu=mu[k], cov=cov[k]) for k in range(K)]\n",
    "            obs = pm.Mixture('obs', w=w, comp_dists=dist, observed=data)\n",
    "\n",
    "    def training(self, advi=False):\n",
    "        with self.model:\n",
    "            if advi:\n",
    "                inference = pm.fit(method='advi')\n",
    "                trace = inference.sample()\n",
    "            else:\n",
    "                trace = pm.sample(chains=1)\n",
    "        pm.summary(trace)\n",
    "        return trace\n",
    "\n",
    "    def plot(self, trace, type=0):\n",
    "        with self.model:\n",
    "            if type == 0:\n",
    "                pm.traceplot(trace)\n",
    "            elif type == 1:\n",
    "                pm.plot_posterior(trace)\n",
    "            elif type == 2:\n",
    "                pm.forestplot(trace)\n",
    "            elif type == 3:\n",
    "                pm.autocorrplot(trace)\n",
    "            elif type == 4:\n",
    "                pm.energyplot(trace)\n",
    "            elif type == 5:\n",
    "                pm.densityplot(trace)\n",
    "            else:\n",
    "                pass"
   ]
  },
  {
   "cell_type": "code",
   "execution_count": 143,
   "metadata": {
    "pycharm": {
     "name": "#%%\n"
    }
   },
   "outputs": [],
   "source": [
    "class PostProcess(Functions):\n",
    "    def __init__(self, data, trace):\n",
    "        super(PostProcess, self).__init__()\n",
    "        self.data = data\n",
    "        self.trace = trace\n",
    "        self.var, self.var_mu, self.var_std, self.var_name = self.stats()\n",
    "        self.w = [self.var_mu[0][k] for k in range(K)]\n",
    "        self.mu = [self.var_mu[k + 1] for k in range(K)]\n",
    "        self.cov = [self.make_cov_matrix(sigma=self.var_mu[k + 1 + K], corr=self.var_mu[k + 1 + 2 * K]) for k in range(K)]\n",
    "        self.gmm = GaussianMixture(K).fit(data)\n",
    "        \n",
    "\n",
    "    def stats(self):\n",
    "        order = np.argsort(self.trace['w'].mean(0))\n",
    "        var_name = [['mu'+str(k) for k in order], ['sigma'+str(k) for k in order], ['corr'+str(k) for k in order]]\n",
    "        var_name = self.flatten(var_name)\n",
    "        var = [np.vstack([self.trace['w'][:, k] for k in order]).T]\n",
    "        var_mu = [var[0].mean(0)]\n",
    "        var_std = [var[0].std(0)]\n",
    "\n",
    "        for name in var_name:\n",
    "            var.append(self.trace[name])\n",
    "            var_mu.append(self.trace[name].mean(0))\n",
    "            var_std.append(self.trace[name].std(0))\n",
    "        var_name.insert(0, 'w')\n",
    "        return var, var_mu, var_std, var_name\n",
    "\n",
    "    def post_samples(self, N=1000):\n",
    "        samples = [self.sampling(self.w[k], self.mu[k], self.cov[k], N) for k in range(K)]\n",
    "        fig = plt.figure()\n",
    "        plt.subplot(121)\n",
    "        [plt.scatter(samples[k][:, 0], samples[k][:, 1], label='component'+str(k)) for k in range(K)]\n",
    "        plt.legend()\n",
    "        plt.xlim([5, 45])\n",
    "        plt.ylim([-30, 30])\n",
    "        plt.subplot(122)\n",
    "        data_post = np.concatenate(samples)\n",
    "        p = self.cluster(data_post, self.w, self.mu, self.cov)\n",
    "        plt.scatter(data_post[:, 0], data_post[:, 1], c=p)\n",
    "        plt.xlim([5, 45])\n",
    "        plt.ylim([-30, 30])\n",
    "        fig.savefig('./img/post_samples.svg', format='svg')\n",
    "        data_post = pd.DataFrame(data_post)\n",
    "        data_post.columns = ['x', 'dx']\n",
    "        return data_post\n",
    "\n",
    "    def joint_dist(self, data_post):\n",
    "        sns.jointplot('x', 'dx', data=self.data, xlim=[5, 45], ylim=[-30, 30], kind='kde', space=0, color='r')\n",
    "        sns.jointplot('x', 'dx', data=data_post, xlim=[5, 45], ylim=[-30, 30], kind='kde', space=0, color='g')\n",
    "\n",
    "    def marginalized_dist(self, data_post):\n",
    "        fig = plt.figure()\n",
    "        plt.subplot(121)\n",
    "        sns.distplot(self.data['x'], bins=30, kde=False, norm_hist=True,\n",
    "                     hist_kws={'histtype': 'step', 'linewidth': 3}, label='Prior distribution')\n",
    "        sns.distplot(data_post['x'], bins=30, kde=False, norm_hist=True,\n",
    "                     hist_kws={'histtype': 'step', 'linewidth': 3}, label='Posterior distribution')\n",
    "        plt.legend()\n",
    "        plt.xlim([5, 45])\n",
    "        plt.subplot(122)\n",
    "        sns.distplot(self.data['dx'], bins=30, kde=False, norm_hist=True,\n",
    "                     hist_kws={'histtype': 'step', 'linewidth': 3}, label='Prior distribution')\n",
    "        sns.distplot(data_post['dx'], bins=30, kde=False, norm_hist=True,\n",
    "                     hist_kws={'histtype': 'step', 'linewidth': 3}, label='Posterior distribution')\n",
    "        plt.legend()\n",
    "        plt.xlim([-30, 30])\n",
    "        fig.savefig('./img/marginalized_dist.svg', format='svg')\n",
    "\n",
    "    def ordered(self):\n",
    "        order = list(permutations(range(K)))\n",
    "        mse = np.zeros(len(order))\n",
    "        list_order = [0, 1, 4, 7, 2, 5, 8, 3, 6, 9]\n",
    "        for n, l in enumerate(order):\n",
    "            var = [self.gmm.weights_]\n",
    "            for k in l:\n",
    "                var.append(self.gmm.means_[k])\n",
    "                sdx = np.sqrt(self.gmm.covariances_[k][0][0])\n",
    "                sdy = np.sqrt(self.gmm.covariances_[k][1][1])\n",
    "                var.append(np.array([sdx, sdy]))\n",
    "                corr = np.array([self.gmm.covariances_[k][1][0] / (sdx * sdy)])\n",
    "                var.append(corr)\n",
    "            gmm_map = [var[k] for k in list_order]\n",
    "            value = 0.\n",
    "            for i in range(len(gmm_map)):\n",
    "                for (x, y) in zip(self.var_mu, gmm_map):\n",
    "                    value += np.sum((x - y) ** 2)\n",
    "            mse[n] = value\n",
    "        index = mse.argmin()\n",
    "        var = [self.gmm.weights_]\n",
    "        for k in order[index]:\n",
    "            var.append(self.gmm.means_[k])\n",
    "            sdx = np.sqrt(self.gmm.covariances_[k][0][0])\n",
    "            sdy = np.sqrt(self.gmm.covariances_[k][1][1])\n",
    "            var.append(np.array([sdx, sdy]))\n",
    "            corr = np.array([self.gmm.covariances_[k][1][0] / (sdx * sdy)])\n",
    "            var.append(corr)\n",
    "        gmm_map = [var[k] for k in list_order]\n",
    "        return gmm_map\n",
    "\n",
    "    def compare_1d(self):\n",
    "        gmm_map = self.ordered()\n",
    "        fig = plt.figure()\n",
    "        for i in range(NUM_VARS):\n",
    "            plt.subplot2grid([int(NUM_VARS/2), 2], [int(2*i/NUM_VARS), int(2*i%NUM_VARS)])\n",
    "            plt.ylabel('Frequency')\n",
    "            plt.title(self.var_name[i])\n",
    "            col = self.var[i].shape[1]\n",
    "            x = [np.linspace(self.var[i][:, k].min(), self.var[i][:, k].max(), 50) for k in range(col)]\n",
    "            p = [self.norm_1d(x[k], self.var_mu[i][k], self.var_std[i][k]) for k in range(col)]\n",
    "            p_max = [p[k].max() for k in range(col)]\n",
    "            [plt.plot(x[k], p[k]) for k in range(col)]\n",
    "            [plt.plot([gmm_map[i][k], gmm_map[i][k]], [0, p_max[k]], color='r') for k in range(col)]\n",
    "        fig.savefig('./img/compare_1d.svg', format='svg')\n",
    "\n",
    "    def compare_2d(self):\n",
    "        p1 = self.norm_2d(self.data.values, self.gmm.weights_, self.gmm.means_, self.gmm.covariances_)\n",
    "        p2 = self.norm_2d(self.data.values, self.w, self.mu, self.cov)\n",
    "        p1 = p1 / np.sum(p1)\n",
    "        p2 = p2 / np.sum(p2)\n",
    "        # fig = plt.figure()\n",
    "        # plt.subplot(121)\n",
    "        # plt.scatter(self.data['x'], self.data['dx'], c=p1)\n",
    "        # plt.colorbar()\n",
    "        # plt.xlim([5, 45])\n",
    "        # plt.ylim([-30, 30])\n",
    "        # plt.subplot(122)\n",
    "        # plt.scatter(self.data['x'], self.data['dx'], c=p2)\n",
    "        # plt.colorbar()\n",
    "        # plt.xlim([5, 45])\n",
    "        # plt.ylim([-30, 30])\n",
    "        # fig.savefig('./img/compare_2d.svg', format='svg')\n",
    "        return p1\n",
    "    \n",
    "    def density_contour(self, level=50):\n",
    "        x = np.linspace(5, 45, 50)\n",
    "        y = np.linspace(-30, 30, 50)\n",
    "        x, y = np.meshgrid(x, y)\n",
    "        z = np.zeros([50, 50])\n",
    "        for i in range(50):\n",
    "            for j in range(50):\n",
    "                a = np.array([[x[i][j], y[i][j]]])\n",
    "                z[i][j] = p.norm_2d(a, p.w, p.mu, p.cov)\n",
    "        plt.figure()\n",
    "        # plt.contour(x, y, z, level)\n",
    "        plt.scatter(data_prior['x'].iloc[m!=0], data_prior['dx'].iloc[m!=0], c='r')\n",
    "\n",
    "    def step(self):\n",
    "        plt.figure(1)\n",
    "        for i in range(NUM_VARS):\n",
    "            plt.subplot2grid([int(NUM_VARS/2), 2], [int(2*i/NUM_VARS), int(2*i%NUM_VARS)])\n",
    "            plt.ylabel('Frequency')\n",
    "            plt.title(self.var_name[i])\n",
    "            col = self.var[i].shape[1]\n",
    "            x = [np.linspace(self.var[i][:, k].min(), self.var[i][:, k].max(), 50) for k in range(col)]\n",
    "            p = [self.norm_1d(x[k], self.var_mu[i][k], self.var_std[i][k]) for k in range(col)]\n",
    "            [plt.plot(x[k], p[k]) for k in range(col)]"
   ]
  },
  {
   "cell_type": "code",
   "execution_count": 136,
   "metadata": {
    "pycharm": {
     "name": "#%%\n"
    }
   },
   "outputs": [],
   "source": [
    "class Estimation(PostProcess):\n",
    "    def __init__(self, data, m, trace):\n",
    "        super(Estimation, self).__init__(data, trace)\n",
    "        self.data = data\n",
    "        self.m = m\n",
    "\n",
    "    def maneuver(self):\n",
    "        N = self.data.shape[0]\n",
    "        # index = np.random.choice(self.data.shape[0], N, True, prob)\n",
    "        index = range(self.data.shape[0])\n",
    "        samples = self.data.iloc[index]\n",
    "        s = self.m[index]\n",
    "        c = self.cluster(samples.values, self.w, self.mu, self.cov)\n",
    "        fig = plt.figure()\n",
    "        for i in range(K):\n",
    "            plt.subplot(131+i)\n",
    "            plt.scatter(samples['x'].iloc[c==i], samples['dx'].iloc[c==i], alpha=0.1)\n",
    "            index1 = np.where(c == i)[0]\n",
    "            index2 = np.where(s != 0)[0]\n",
    "            index = list(set(index1) & set(index2))\n",
    "            plt.scatter(samples['x'].iloc[index], samples['dx'].iloc[index], c='r')\n",
    "            plt.xlim([5, 45])\n",
    "            plt.ylim([-30, 30])\n",
    "            print(len(index) / len(index1))\n",
    "        fig.savefig('./img/importance_sampling.svg', format='svg')\n",
    "        \n",
    "    def logit_classify(self):\n",
    "        w_trace = self.stocGraAscent(self.data.values, self.m)\n",
    "        return w_trace\n",
    "    \n",
    "    def importance_sampling(self, prob):\n",
    "        index = range(self.data.shape[0])\n",
    "        samples = self.data.iloc[index]\n",
    "        s = self.m[index]\n",
    "        c = self.cluster(samples.values, self.w, self.mu, self.cov)\n",
    "        N = [100, 500, 1000, 5000, 10000, 50000, 100000, 200000, 300000, 400000, 500000, 600000, 700000, 800000]\n",
    "        rate = np.zeros([K, len(N)])\n",
    "        for i in range(K):\n",
    "            for j, n in enumerate(N):\n",
    "                index = np.where(c == i)[0]\n",
    "                p = prob[index] / np.sum(prob[index])\n",
    "                ix = np.random.choice(index, n, True, p)\n",
    "                samples = self.data.iloc[ix]\n",
    "                s = self.m[ix]\n",
    "                m = np.where(s != 0)[0]\n",
    "                rate[i, j] = len(m) / n\n",
    "        plt.figure()\n",
    "        for i in range(K):\n",
    "            plt.subplot(131+i)\n",
    "            plt.title('component'+str(i))\n",
    "            plt.plot(range(len(N)), rate[i], label='lane changing rate')\n",
    "            plt.plot(range(len(N)), rate[i][-1] * np.ones([col]), c='r', linestyle='--', label='expectation')\n",
    "        plt.legend()\n",
    "        return rate[:, -1]\n",
    "    \n",
    "    def entropy(self, x, y):\n",
    "        x = self.normalization(x)\n",
    "        p = x / x.sum(0)\n",
    "        return p"
   ]
  },
  {
   "cell_type": "code",
   "execution_count": 8,
   "metadata": {
    "pycharm": {
     "name": "#%%\n"
    },
    "scrolled": true
   },
   "outputs": [
    {
     "name": "stderr",
     "output_type": "stream",
     "text": [
      "/home/yangwei/anaconda3/envs/theano_env/lib/python3.6/site-packages/theano/tensor/basic.py:6611: FutureWarning: Using a non-tuple sequence for multidimensional indexing is deprecated; use `arr[tuple(seq)]` instead of `arr[seq]`. In the future this will be interpreted as an array index, `arr[np.array(seq)]`, which will result either in an error or a different result.\n",
      "  result[diagonal_slice] = x\n",
      "/home/yangwei/anaconda3/envs/theano_env/lib/python3.6/site-packages/theano/tensor/subtensor.py:2197: FutureWarning: Using a non-tuple sequence for multidimensional indexing is deprecated; use `arr[tuple(seq)]` instead of `arr[seq]`. In the future this will be interpreted as an array index, `arr[np.array(seq)]`, which will result either in an error or a different result.\n",
      "  rval = inputs[0].__getitem__(inputs[1:])\n",
      "/home/yangwei/anaconda3/envs/theano_env/lib/python3.6/site-packages/theano/tensor/subtensor.py:2339: FutureWarning: Using a non-tuple sequence for multidimensional indexing is deprecated; use `arr[tuple(seq)]` instead of `arr[seq]`. In the future this will be interpreted as an array index, `arr[np.array(seq)]`, which will result either in an error or a different result.\n",
      "  out[0][inputs[2:]] = inputs[1]\n",
      "Auto-assigning NUTS sampler...\n",
      "Initializing NUTS using jitter+adapt_diag...\n",
      "/home/yangwei/anaconda3/envs/theano_env/lib/python3.6/site-packages/theano/tensor/basic.py:6611: FutureWarning: Using a non-tuple sequence for multidimensional indexing is deprecated; use `arr[tuple(seq)]` instead of `arr[seq]`. In the future this will be interpreted as an array index, `arr[np.array(seq)]`, which will result either in an error or a different result.\n",
      "  result[diagonal_slice] = x\n",
      "/home/yangwei/anaconda3/envs/theano_env/lib/python3.6/site-packages/theano/tensor/basic.py:6611: FutureWarning: Using a non-tuple sequence for multidimensional indexing is deprecated; use `arr[tuple(seq)]` instead of `arr[seq]`. In the future this will be interpreted as an array index, `arr[np.array(seq)]`, which will result either in an error or a different result.\n",
      "  result[diagonal_slice] = x\n",
      "/home/yangwei/anaconda3/envs/theano_env/lib/python3.6/site-packages/theano/tensor/basic.py:6611: FutureWarning: Using a non-tuple sequence for multidimensional indexing is deprecated; use `arr[tuple(seq)]` instead of `arr[seq]`. In the future this will be interpreted as an array index, `arr[np.array(seq)]`, which will result either in an error or a different result.\n",
      "  result[diagonal_slice] = x\n",
      "/home/yangwei/anaconda3/envs/theano_env/lib/python3.6/site-packages/theano/tensor/basic.py:6611: FutureWarning: Using a non-tuple sequence for multidimensional indexing is deprecated; use `arr[tuple(seq)]` instead of `arr[seq]`. In the future this will be interpreted as an array index, `arr[np.array(seq)]`, which will result either in an error or a different result.\n",
      "  result[diagonal_slice] = x\n",
      "/home/yangwei/anaconda3/envs/theano_env/lib/python3.6/site-packages/theano/tensor/subtensor.py:2339: FutureWarning: Using a non-tuple sequence for multidimensional indexing is deprecated; use `arr[tuple(seq)]` instead of `arr[seq]`. In the future this will be interpreted as an array index, `arr[np.array(seq)]`, which will result either in an error or a different result.\n",
      "  out[0][inputs[2:]] = inputs[1]\n",
      "/home/yangwei/anaconda3/envs/theano_env/lib/python3.6/site-packages/theano/tensor/subtensor.py:2197: FutureWarning: Using a non-tuple sequence for multidimensional indexing is deprecated; use `arr[tuple(seq)]` instead of `arr[seq]`. In the future this will be interpreted as an array index, `arr[np.array(seq)]`, which will result either in an error or a different result.\n",
      "  rval = inputs[0].__getitem__(inputs[1:])\n",
      "/home/yangwei/anaconda3/envs/theano_env/lib/python3.6/site-packages/theano/tensor/basic.py:6611: FutureWarning: Using a non-tuple sequence for multidimensional indexing is deprecated; use `arr[tuple(seq)]` instead of `arr[seq]`. In the future this will be interpreted as an array index, `arr[np.array(seq)]`, which will result either in an error or a different result.\n",
      "  result[diagonal_slice] = x\n",
      "/home/yangwei/anaconda3/envs/theano_env/lib/python3.6/site-packages/theano/tensor/subtensor.py:2339: FutureWarning: Using a non-tuple sequence for multidimensional indexing is deprecated; use `arr[tuple(seq)]` instead of `arr[seq]`. In the future this will be interpreted as an array index, `arr[np.array(seq)]`, which will result either in an error or a different result.\n",
      "  out[0][inputs[2:]] = inputs[1]\n",
      "/home/yangwei/anaconda3/envs/theano_env/lib/python3.6/site-packages/theano/tensor/subtensor.py:2197: FutureWarning: Using a non-tuple sequence for multidimensional indexing is deprecated; use `arr[tuple(seq)]` instead of `arr[seq]`. In the future this will be interpreted as an array index, `arr[np.array(seq)]`, which will result either in an error or a different result.\n",
      "  rval = inputs[0].__getitem__(inputs[1:])\n",
      "Sequential sampling (1 chains in 1 job)\n",
      "NUTS: [corr2, corr1, corr0, sigma2, sigma1, sigma0, mu2, mu1, mu0, w]\n",
      "  0%|          | 0/1000 [00:00<?, ?it/s]/home/yangwei/anaconda3/envs/theano_env/lib/python3.6/site-packages/theano/tensor/basic.py:6611: FutureWarning: Using a non-tuple sequence for multidimensional indexing is deprecated; use `arr[tuple(seq)]` instead of `arr[seq]`. In the future this will be interpreted as an array index, `arr[np.array(seq)]`, which will result either in an error or a different result.\n",
      "  result[diagonal_slice] = x\n",
      "/home/yangwei/anaconda3/envs/theano_env/lib/python3.6/site-packages/theano/tensor/subtensor.py:2339: FutureWarning: Using a non-tuple sequence for multidimensional indexing is deprecated; use `arr[tuple(seq)]` instead of `arr[seq]`. In the future this will be interpreted as an array index, `arr[np.array(seq)]`, which will result either in an error or a different result.\n",
      "  out[0][inputs[2:]] = inputs[1]\n",
      "/home/yangwei/anaconda3/envs/theano_env/lib/python3.6/site-packages/theano/tensor/subtensor.py:2197: FutureWarning: Using a non-tuple sequence for multidimensional indexing is deprecated; use `arr[tuple(seq)]` instead of `arr[seq]`. In the future this will be interpreted as an array index, `arr[np.array(seq)]`, which will result either in an error or a different result.\n",
      "  rval = inputs[0].__getitem__(inputs[1:])\n",
      "100%|██████████| 1000/1000 [07:26<00:00,  2.28it/s]\n",
      "Only one chain was sampled, this makes it impossible to run some convergence checks\n"
     ]
    }
   ],
   "source": [
    "# PERCENT = np.arange(0.1, 1., 0.1)\n",
    "# PERCENT = np.linspace(0.1, 0.1, 10)\n",
    "PERCENT = 1\n",
    "d = LoadData()\n",
    "data_prior, m = d.prior_samples(PERCENT)\n",
    "f = BayesianGMM(data_prior)\n",
    "trace = f.training()"
   ]
  },
  {
   "cell_type": "code",
   "execution_count": 145,
   "metadata": {},
   "outputs": [
    {
     "ename": "TypeError",
     "evalue": "super(type, obj): obj must be an instance or subtype of type",
     "output_type": "error",
     "traceback": [
      "\u001b[0;31m---------------------------------------------------------------------------\u001b[0m",
      "\u001b[0;31mTypeError\u001b[0m                                 Traceback (most recent call last)",
      "\u001b[0;32m<ipython-input-145-3d9fd5094e96>\u001b[0m in \u001b[0;36m<module>\u001b[0;34m\u001b[0m\n\u001b[1;32m      1\u001b[0m \u001b[0mp\u001b[0m \u001b[0;34m=\u001b[0m \u001b[0mPostProcess\u001b[0m\u001b[0;34m(\u001b[0m\u001b[0mdata_prior\u001b[0m\u001b[0;34m,\u001b[0m \u001b[0mtrace\u001b[0m\u001b[0;34m)\u001b[0m\u001b[0;34m\u001b[0m\u001b[0;34m\u001b[0m\u001b[0m\n\u001b[0;32m----> 2\u001b[0;31m \u001b[0me\u001b[0m \u001b[0;34m=\u001b[0m \u001b[0mEstimation\u001b[0m\u001b[0;34m(\u001b[0m\u001b[0mdata_prior\u001b[0m\u001b[0;34m,\u001b[0m \u001b[0mm\u001b[0m\u001b[0;34m,\u001b[0m \u001b[0mtrace\u001b[0m\u001b[0;34m)\u001b[0m\u001b[0;34m\u001b[0m\u001b[0;34m\u001b[0m\u001b[0m\n\u001b[0m",
      "\u001b[0;32m<ipython-input-136-7bb86c735a13>\u001b[0m in \u001b[0;36m__init__\u001b[0;34m(self, data, m, trace)\u001b[0m\n\u001b[1;32m      1\u001b[0m \u001b[0;32mclass\u001b[0m \u001b[0mEstimation\u001b[0m\u001b[0;34m(\u001b[0m\u001b[0mPostProcess\u001b[0m\u001b[0;34m)\u001b[0m\u001b[0;34m:\u001b[0m\u001b[0;34m\u001b[0m\u001b[0;34m\u001b[0m\u001b[0m\n\u001b[1;32m      2\u001b[0m     \u001b[0;32mdef\u001b[0m \u001b[0m__init__\u001b[0m\u001b[0;34m(\u001b[0m\u001b[0mself\u001b[0m\u001b[0;34m,\u001b[0m \u001b[0mdata\u001b[0m\u001b[0;34m,\u001b[0m \u001b[0mm\u001b[0m\u001b[0;34m,\u001b[0m \u001b[0mtrace\u001b[0m\u001b[0;34m)\u001b[0m\u001b[0;34m:\u001b[0m\u001b[0;34m\u001b[0m\u001b[0;34m\u001b[0m\u001b[0m\n\u001b[0;32m----> 3\u001b[0;31m         \u001b[0msuper\u001b[0m\u001b[0;34m(\u001b[0m\u001b[0mEstimation\u001b[0m\u001b[0;34m,\u001b[0m \u001b[0mself\u001b[0m\u001b[0;34m)\u001b[0m\u001b[0;34m.\u001b[0m\u001b[0m__init__\u001b[0m\u001b[0;34m(\u001b[0m\u001b[0mdata\u001b[0m\u001b[0;34m,\u001b[0m \u001b[0mtrace\u001b[0m\u001b[0;34m)\u001b[0m\u001b[0;34m\u001b[0m\u001b[0;34m\u001b[0m\u001b[0m\n\u001b[0m\u001b[1;32m      4\u001b[0m         \u001b[0mself\u001b[0m\u001b[0;34m.\u001b[0m\u001b[0mdata\u001b[0m \u001b[0;34m=\u001b[0m \u001b[0mdata\u001b[0m\u001b[0;34m\u001b[0m\u001b[0;34m\u001b[0m\u001b[0m\n\u001b[1;32m      5\u001b[0m         \u001b[0mself\u001b[0m\u001b[0;34m.\u001b[0m\u001b[0mm\u001b[0m \u001b[0;34m=\u001b[0m \u001b[0mm\u001b[0m\u001b[0;34m\u001b[0m\u001b[0;34m\u001b[0m\u001b[0m\n",
      "\u001b[0;32m<ipython-input-135-01aec483457c>\u001b[0m in \u001b[0;36m__init__\u001b[0;34m(self, data, trace)\u001b[0m\n\u001b[1;32m      1\u001b[0m \u001b[0;32mclass\u001b[0m \u001b[0mPostProcess\u001b[0m\u001b[0;34m(\u001b[0m\u001b[0mFunctions\u001b[0m\u001b[0;34m)\u001b[0m\u001b[0;34m:\u001b[0m\u001b[0;34m\u001b[0m\u001b[0;34m\u001b[0m\u001b[0m\n\u001b[1;32m      2\u001b[0m     \u001b[0;32mdef\u001b[0m \u001b[0m__init__\u001b[0m\u001b[0;34m(\u001b[0m\u001b[0mself\u001b[0m\u001b[0;34m,\u001b[0m \u001b[0mdata\u001b[0m\u001b[0;34m,\u001b[0m \u001b[0mtrace\u001b[0m\u001b[0;34m)\u001b[0m\u001b[0;34m:\u001b[0m\u001b[0;34m\u001b[0m\u001b[0;34m\u001b[0m\u001b[0m\n\u001b[0;32m----> 3\u001b[0;31m         \u001b[0msuper\u001b[0m\u001b[0;34m(\u001b[0m\u001b[0mPostProcess\u001b[0m\u001b[0;34m,\u001b[0m \u001b[0mself\u001b[0m\u001b[0;34m)\u001b[0m\u001b[0;34m.\u001b[0m\u001b[0m__init__\u001b[0m\u001b[0;34m(\u001b[0m\u001b[0;34m)\u001b[0m\u001b[0;34m\u001b[0m\u001b[0;34m\u001b[0m\u001b[0m\n\u001b[0m\u001b[1;32m      4\u001b[0m         \u001b[0mself\u001b[0m\u001b[0;34m.\u001b[0m\u001b[0mdata\u001b[0m \u001b[0;34m=\u001b[0m \u001b[0mdata\u001b[0m\u001b[0;34m\u001b[0m\u001b[0;34m\u001b[0m\u001b[0m\n\u001b[1;32m      5\u001b[0m         \u001b[0mself\u001b[0m\u001b[0;34m.\u001b[0m\u001b[0mtrace\u001b[0m \u001b[0;34m=\u001b[0m \u001b[0mtrace\u001b[0m\u001b[0;34m\u001b[0m\u001b[0;34m\u001b[0m\u001b[0m\n",
      "\u001b[0;31mTypeError\u001b[0m: super(type, obj): obj must be an instance or subtype of type"
     ]
    }
   ],
   "source": [
    "p = PostProcess(data_prior, trace)\n",
    "e = Estimation(data_prior, m, trace)"
   ]
  },
  {
   "cell_type": "code",
   "execution_count": 138,
   "metadata": {
    "scrolled": true
   },
   "outputs": [
    {
     "name": "stderr",
     "output_type": "stream",
     "text": [
      "/home/yangwei/anaconda3/envs/theano_env/lib/python3.6/site-packages/scipy/stats/stats.py:1713: FutureWarning: Using a non-tuple sequence for multidimensional indexing is deprecated; use `arr[tuple(seq)]` instead of `arr[seq]`. In the future this will be interpreted as an array index, `arr[np.array(seq)]`, which will result either in an error or a different result.\n",
      "  return np.add.reduce(sorted[indexer] * weights, axis=axis) / sumval\n"
     ]
    },
    {
     "data": {
      "image/png": "[encoded data removed]",
      "text/plain": [
       "<Figure size 432x288 with 2 Axes>"
      ]
     },
     "metadata": {
      "needs_background": "light"
     },
     "output_type": "display_data"
    },
    {
     "data": {
      "image/png": "[encoded data removed]",
      "text/plain": [
       "<Figure size 432x432 with 3 Axes>"
      ]
     },
     "metadata": {
      "needs_background": "light"
     },
     "output_type": "display_data"
    },
    {
     "data": {
      "image/png": "[encoded data removed]",
      "text/plain": [
       "<Figure size 432x432 with 3 Axes>"
      ]
     },
     "metadata": {
      "needs_background": "light"
     },
     "output_type": "display_data"
    },
    {
     "data": {
      "image/png": "[encoded data removed]",
      "text/plain": [
       "<Figure size 432x288 with 2 Axes>"
      ]
     },
     "metadata": {
      "needs_background": "light"
     },
     "output_type": "display_data"
    }
   ],
   "source": [
    "data_post = p.post_samples(data_prior.shape[0])\n",
    "p.joint_dist(data_post)\n",
    "p.marginalized_dist(data_post)"
   ]
  },
  {
   "cell_type": "code",
   "execution_count": 142,
   "metadata": {
    "scrolled": true
   },
   "outputs": [
    {
     "ename": "TypeError",
     "evalue": "'float' object cannot be interpreted as an integer",
     "output_type": "error",
     "traceback": [
      "\u001b[0;31m---------------------------------------------------------------------------\u001b[0m",
      "\u001b[0;31mTypeError\u001b[0m                                 Traceback (most recent call last)",
      "\u001b[0;32m<ipython-input-142-f3c24985a075>\u001b[0m in \u001b[0;36m<module>\u001b[0;34m\u001b[0m\n\u001b[0;32m----> 1\u001b[0;31m \u001b[0mp\u001b[0m\u001b[0;34m.\u001b[0m\u001b[0mcompare_1d\u001b[0m\u001b[0;34m(\u001b[0m\u001b[0;34m)\u001b[0m\u001b[0;34m\u001b[0m\u001b[0;34m\u001b[0m\u001b[0m\n\u001b[0m\u001b[1;32m      2\u001b[0m \u001b[0mprob\u001b[0m \u001b[0;34m=\u001b[0m \u001b[0mp\u001b[0m\u001b[0;34m.\u001b[0m\u001b[0mcompare_2d\u001b[0m\u001b[0;34m(\u001b[0m\u001b[0;34m)\u001b[0m\u001b[0;34m\u001b[0m\u001b[0;34m\u001b[0m\u001b[0m\n",
      "\u001b[0;32m<ipython-input-140-07d735a485b1>\u001b[0m in \u001b[0;36mcompare_1d\u001b[0;34m(self)\u001b[0m\n\u001b[1;32m    102\u001b[0m         \u001b[0mfig\u001b[0m \u001b[0;34m=\u001b[0m \u001b[0mplt\u001b[0m\u001b[0;34m.\u001b[0m\u001b[0mfigure\u001b[0m\u001b[0;34m(\u001b[0m\u001b[0;34m)\u001b[0m\u001b[0;34m\u001b[0m\u001b[0;34m\u001b[0m\u001b[0m\n\u001b[1;32m    103\u001b[0m         \u001b[0;32mfor\u001b[0m \u001b[0mi\u001b[0m \u001b[0;32min\u001b[0m \u001b[0mrange\u001b[0m\u001b[0;34m(\u001b[0m\u001b[0mNUM_VARS\u001b[0m\u001b[0;34m)\u001b[0m\u001b[0;34m:\u001b[0m\u001b[0;34m\u001b[0m\u001b[0;34m\u001b[0m\u001b[0m\n\u001b[0;32m--> 104\u001b[0;31m             \u001b[0mplt\u001b[0m\u001b[0;34m.\u001b[0m\u001b[0msubplot2grid\u001b[0m\u001b[0;34m(\u001b[0m\u001b[0;34m[\u001b[0m\u001b[0mNUM_VARS\u001b[0m\u001b[0;34m/\u001b[0m\u001b[0;36m2\u001b[0m\u001b[0;34m,\u001b[0m \u001b[0;36m2\u001b[0m\u001b[0;34m]\u001b[0m\u001b[0;34m,\u001b[0m \u001b[0;34m[\u001b[0m\u001b[0mint\u001b[0m\u001b[0;34m(\u001b[0m\u001b[0;36m2\u001b[0m\u001b[0;34m*\u001b[0m\u001b[0mi\u001b[0m\u001b[0;34m/\u001b[0m\u001b[0mNUM_VARS\u001b[0m\u001b[0;34m)\u001b[0m\u001b[0;34m,\u001b[0m \u001b[0mint\u001b[0m\u001b[0;34m(\u001b[0m\u001b[0;36m2\u001b[0m\u001b[0;34m*\u001b[0m\u001b[0mi\u001b[0m\u001b[0;34m%\u001b[0m\u001b[0mNUM_VARS\u001b[0m\u001b[0;34m)\u001b[0m\u001b[0;34m]\u001b[0m\u001b[0;34m)\u001b[0m\u001b[0;34m\u001b[0m\u001b[0;34m\u001b[0m\u001b[0m\n\u001b[0m\u001b[1;32m    105\u001b[0m             \u001b[0mplt\u001b[0m\u001b[0;34m.\u001b[0m\u001b[0mylabel\u001b[0m\u001b[0;34m(\u001b[0m\u001b[0;34m'Frequency'\u001b[0m\u001b[0;34m)\u001b[0m\u001b[0;34m\u001b[0m\u001b[0;34m\u001b[0m\u001b[0m\n\u001b[1;32m    106\u001b[0m             \u001b[0mplt\u001b[0m\u001b[0;34m.\u001b[0m\u001b[0mtitle\u001b[0m\u001b[0;34m(\u001b[0m\u001b[0mself\u001b[0m\u001b[0;34m.\u001b[0m\u001b[0mvar_name\u001b[0m\u001b[0;34m[\u001b[0m\u001b[0mi\u001b[0m\u001b[0;34m]\u001b[0m\u001b[0;34m)\u001b[0m\u001b[0;34m\u001b[0m\u001b[0;34m\u001b[0m\u001b[0m\n",
      "\u001b[0;32m~/anaconda3/envs/theano_env/lib/python3.6/site-packages/matplotlib/pyplot.py\u001b[0m in \u001b[0;36msubplot2grid\u001b[0;34m(shape, loc, rowspan, colspan, fig, **kwargs)\u001b[0m\n\u001b[1;32m   1268\u001b[0m     subplotspec = GridSpec(s1, s2).new_subplotspec(loc,\n\u001b[1;32m   1269\u001b[0m                                                    \u001b[0mrowspan\u001b[0m\u001b[0;34m=\u001b[0m\u001b[0mrowspan\u001b[0m\u001b[0;34m,\u001b[0m\u001b[0;34m\u001b[0m\u001b[0;34m\u001b[0m\u001b[0m\n\u001b[0;32m-> 1270\u001b[0;31m                                                    colspan=colspan)\n\u001b[0m\u001b[1;32m   1271\u001b[0m     \u001b[0ma\u001b[0m \u001b[0;34m=\u001b[0m \u001b[0mfig\u001b[0m\u001b[0;34m.\u001b[0m\u001b[0madd_subplot\u001b[0m\u001b[0;34m(\u001b[0m\u001b[0msubplotspec\u001b[0m\u001b[0;34m,\u001b[0m \u001b[0;34m**\u001b[0m\u001b[0mkwargs\u001b[0m\u001b[0;34m)\u001b[0m\u001b[0;34m\u001b[0m\u001b[0;34m\u001b[0m\u001b[0m\n\u001b[1;32m   1272\u001b[0m     \u001b[0mbbox\u001b[0m \u001b[0;34m=\u001b[0m \u001b[0ma\u001b[0m\u001b[0;34m.\u001b[0m\u001b[0mbbox\u001b[0m\u001b[0;34m\u001b[0m\u001b[0;34m\u001b[0m\u001b[0m\n",
      "\u001b[0;32m~/anaconda3/envs/theano_env/lib/python3.6/site-packages/matplotlib/gridspec.py\u001b[0m in \u001b[0;36mnew_subplotspec\u001b[0;34m(self, loc, rowspan, colspan)\u001b[0m\n\u001b[1;32m     68\u001b[0m         \"\"\"\n\u001b[1;32m     69\u001b[0m         \u001b[0mloc1\u001b[0m\u001b[0;34m,\u001b[0m \u001b[0mloc2\u001b[0m \u001b[0;34m=\u001b[0m \u001b[0mloc\u001b[0m\u001b[0;34m\u001b[0m\u001b[0;34m\u001b[0m\u001b[0m\n\u001b[0;32m---> 70\u001b[0;31m         \u001b[0msubplotspec\u001b[0m \u001b[0;34m=\u001b[0m \u001b[0mself\u001b[0m\u001b[0;34m[\u001b[0m\u001b[0mloc1\u001b[0m\u001b[0;34m:\u001b[0m\u001b[0mloc1\u001b[0m\u001b[0;34m+\u001b[0m\u001b[0mrowspan\u001b[0m\u001b[0;34m,\u001b[0m \u001b[0mloc2\u001b[0m\u001b[0;34m:\u001b[0m\u001b[0mloc2\u001b[0m\u001b[0;34m+\u001b[0m\u001b[0mcolspan\u001b[0m\u001b[0;34m]\u001b[0m\u001b[0;34m\u001b[0m\u001b[0;34m\u001b[0m\u001b[0m\n\u001b[0m\u001b[1;32m     71\u001b[0m         \u001b[0;32mreturn\u001b[0m \u001b[0msubplotspec\u001b[0m\u001b[0;34m\u001b[0m\u001b[0;34m\u001b[0m\u001b[0m\n\u001b[1;32m     72\u001b[0m \u001b[0;34m\u001b[0m\u001b[0m\n",
      "\u001b[0;32m~/anaconda3/envs/theano_env/lib/python3.6/site-packages/matplotlib/gridspec.py\u001b[0m in \u001b[0;36m__getitem__\u001b[0;34m(self, key)\u001b[0m\n\u001b[1;32m    166\u001b[0m                 \u001b[0;32mraise\u001b[0m \u001b[0mValueError\u001b[0m\u001b[0;34m(\u001b[0m\u001b[0;34m\"unrecognized subplot spec\"\u001b[0m\u001b[0;34m)\u001b[0m\u001b[0;34m\u001b[0m\u001b[0;34m\u001b[0m\u001b[0m\n\u001b[1;32m    167\u001b[0m             num1, num2 = np.ravel_multi_index(\n\u001b[0;32m--> 168\u001b[0;31m                 [_normalize(k1, nrows), _normalize(k2, ncols)], (nrows, ncols))\n\u001b[0m\u001b[1;32m    169\u001b[0m         \u001b[0;32melse\u001b[0m\u001b[0;34m:\u001b[0m  \u001b[0;31m# Single key\u001b[0m\u001b[0;34m\u001b[0m\u001b[0;34m\u001b[0m\u001b[0m\n\u001b[1;32m    170\u001b[0m             \u001b[0mnum1\u001b[0m\u001b[0;34m,\u001b[0m \u001b[0mnum2\u001b[0m \u001b[0;34m=\u001b[0m \u001b[0m_normalize\u001b[0m\u001b[0;34m(\u001b[0m\u001b[0mkey\u001b[0m\u001b[0;34m,\u001b[0m \u001b[0mnrows\u001b[0m \u001b[0;34m*\u001b[0m \u001b[0mncols\u001b[0m\u001b[0;34m)\u001b[0m\u001b[0;34m\u001b[0m\u001b[0;34m\u001b[0m\u001b[0m\n",
      "\u001b[0;32m~/anaconda3/envs/theano_env/lib/python3.6/site-packages/matplotlib/gridspec.py\u001b[0m in \u001b[0;36m_normalize\u001b[0;34m(key, size)\u001b[0m\n\u001b[1;32m    150\u001b[0m         \u001b[0;32mdef\u001b[0m \u001b[0m_normalize\u001b[0m\u001b[0;34m(\u001b[0m\u001b[0mkey\u001b[0m\u001b[0;34m,\u001b[0m \u001b[0msize\u001b[0m\u001b[0;34m)\u001b[0m\u001b[0;34m:\u001b[0m  \u001b[0;31m# Includes last index.\u001b[0m\u001b[0;34m\u001b[0m\u001b[0;34m\u001b[0m\u001b[0m\n\u001b[1;32m    151\u001b[0m             \u001b[0;32mif\u001b[0m \u001b[0misinstance\u001b[0m\u001b[0;34m(\u001b[0m\u001b[0mkey\u001b[0m\u001b[0;34m,\u001b[0m \u001b[0mslice\u001b[0m\u001b[0;34m)\u001b[0m\u001b[0;34m:\u001b[0m\u001b[0;34m\u001b[0m\u001b[0;34m\u001b[0m\u001b[0m\n\u001b[0;32m--> 152\u001b[0;31m                 \u001b[0mstart\u001b[0m\u001b[0;34m,\u001b[0m \u001b[0mstop\u001b[0m\u001b[0;34m,\u001b[0m \u001b[0m_\u001b[0m \u001b[0;34m=\u001b[0m \u001b[0mkey\u001b[0m\u001b[0;34m.\u001b[0m\u001b[0mindices\u001b[0m\u001b[0;34m(\u001b[0m\u001b[0msize\u001b[0m\u001b[0;34m)\u001b[0m\u001b[0;34m\u001b[0m\u001b[0;34m\u001b[0m\u001b[0m\n\u001b[0m\u001b[1;32m    153\u001b[0m                 \u001b[0;32mif\u001b[0m \u001b[0mstop\u001b[0m \u001b[0;34m>\u001b[0m \u001b[0mstart\u001b[0m\u001b[0;34m:\u001b[0m\u001b[0;34m\u001b[0m\u001b[0;34m\u001b[0m\u001b[0m\n\u001b[1;32m    154\u001b[0m                     \u001b[0;32mreturn\u001b[0m \u001b[0mstart\u001b[0m\u001b[0;34m,\u001b[0m \u001b[0mstop\u001b[0m \u001b[0;34m-\u001b[0m \u001b[0;36m1\u001b[0m\u001b[0;34m\u001b[0m\u001b[0;34m\u001b[0m\u001b[0m\n",
      "\u001b[0;31mTypeError\u001b[0m: 'float' object cannot be interpreted as an integer"
     ]
    },
    {
     "data": {
      "text/plain": [
       "<Figure size 432x288 with 0 Axes>"
      ]
     },
     "metadata": {},
     "output_type": "display_data"
    }
   ],
   "source": [
    "p.compare_1d()\n",
    "prob = p.compare_2d()"
   ]
  },
  {
   "cell_type": "code",
   "execution_count": null,
   "metadata": {},
   "outputs": [],
   "source": [
    "p.density_contour()"
   ]
  },
  {
   "cell_type": "code",
   "execution_count": null,
   "metadata": {
    "pycharm": {
     "name": "#%%\n"
    },
    "scrolled": false
   },
   "outputs": [],
   "source": [
    "e.maneuver()"
   ]
  },
  {
   "cell_type": "code",
   "execution_count": null,
   "metadata": {},
   "outputs": [],
   "source": [
    "e.importance_sampling()"
   ]
  },
  {
   "cell_type": "code",
   "execution_count": null,
   "metadata": {},
   "outputs": [],
   "source": []
  }
 ],
 "metadata": {
  "kernelspec": {
   "display_name": "Python 3",
   "language": "python",
   "name": "python3"
  },
  "language_info": {
   "codemirror_mode": {
    "name": "ipython",
    "version": 3
   },
   "file_extension": ".py",
   "mimetype": "text/x-python",
   "name": "python",
   "nbconvert_exporter": "python",
   "pygments_lexer": "ipython3",
   "version": "3.6.8"
  },
  "pycharm": {
   "stem_cell": {
    "cell_type": "raw",
    "source": [],
    "metadata": {
     "collapsed": false
    }
   }
  }
 },
 "nbformat": 4,
 "nbformat_minor": 1
}